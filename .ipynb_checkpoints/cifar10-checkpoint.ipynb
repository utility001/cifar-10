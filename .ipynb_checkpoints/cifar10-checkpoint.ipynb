{
 "cells": [
  {
   "cell_type": "markdown",
   "metadata": {
    "colab_type": "text",
    "id": "view-in-github"
   },
   "source": [
    "<a href=\"https://colab.research.google.com/github/utility001/cifar-10/blob/main/cifar10.ipynb\" target=\"_parent\"><img src=\"https://colab.research.google.com/assets/colab-badge.svg\" alt=\"Open In Colab\"/></a>"
   ]
  },
  {
   "cell_type": "code",
   "execution_count": null,
   "metadata": {},
   "outputs": [],
   "source": []
  },
  {
   "cell_type": "code",
   "execution_count": null,
   "metadata": {},
   "outputs": [],
   "source": [
    "Practice training a deep neural network on the CIFAR10 image dataset:\n",
    "a. Build a DNN with 20 hidden layers of 100 neurons each (that’s too\n",
    "many, but it’s the point of this exercise). Use He initialization and\n",
    "the Swish activation function.\n",
    "b. Using Nadam optimization and early stopping, train the network on\n",
    "the CIFAR10 dataset. You can load it with\n",
    "tf.keras.datasets.cifar10.load_data(). The dataset is composed of\n",
    "60,000 32 × 32–pixel color images (50,000 for training, 10,000 for\n",
    "testing) with 10 classes, so you’ll need a softmax output layer with\n",
    "10 neurons. Remember to search for the right learning rate each\n",
    "time you change the model’s architecture or hyperparameters.\n",
    "c. Now try adding batch normalization and compare the learning\n",
    "curves: is it converging faster than before? Does it produce a bettermodel? How does it affect training speed?\n",
    "d. Try replacing batch normalization with SELU, and make the\n",
    "necessary adjustments to ensure the network self-normalizes (i.e.,\n",
    "standardize the input features, use LeCun normal initialization,\n",
    "make sure the DNN contains only a sequence of dense layers, etc.).\n",
    "e. Try regularizing the model with alpha dropout. Then, without\n",
    "retraining your model, see if you can achieve better accuracy using\n",
    "MC dropout.\n",
    "f. Retrain your model using 1cycle scheduling and see if it improves\n",
    "training speed and model accuracy."
   ]
  },
  {
   "cell_type": "code",
   "execution_count": null,
   "metadata": {},
   "outputs": [],
   "source": []
  },
  {
   "cell_type": "code",
   "execution_count": null,
   "metadata": {
    "id": "URvDYNQNYpql"
   },
   "outputs": [],
   "source": [
    "!pip install tensorflow"
   ]
  },
  {
   "cell_type": "code",
   "execution_count": null,
   "metadata": {
    "id": "3ws0uLXEZmzc"
   },
   "outputs": [],
   "source": [
    "import numpy as np\n",
    "import pandas as pd"
   ]
  },
  {
   "cell_type": "code",
   "execution_count": null,
   "metadata": {},
   "outputs": [],
   "source": [
    "# cifar_10 details\n",
    "tf.keras.datasets.cifar10.load_data?"
   ]
  },
  {
   "cell_type": "code",
   "execution_count": null,
   "metadata": {},
   "outputs": [],
   "source": [
    "(x_train_full, y_train_full), (x_test, y_test) = tf.keras.datasets.cifar10.load_data()"
   ]
  },
  {
   "cell_type": "code",
   "execution_count": null,
   "metadata": {},
   "outputs": [],
   "source": [
    "def counts(target, name):\n",
    "    value_counts = pd.Series(target, name=name).value_counts()\n",
    "    percentages = (value_counts/len(target)) * 100\n",
    "\n",
    "    vcs = pd.DataFrame({\n",
    "        f\"count {name}\": value_counts,\n",
    "        f\"percentages {name}\": percentages\n",
    "    })\n",
    "    return vcs"
   ]
  },
  {
   "cell_type": "code",
   "execution_count": null,
   "metadata": {},
   "outputs": [],
   "source": []
  }
 ],
 "metadata": {
  "colab": {
   "authorship_tag": "ABX9TyP7bYBt0ErWs4670ROPVGMo",
   "include_colab_link": true,
   "provenance": []
  },
  "kernelspec": {
   "display_name": "Python 3 (ipykernel)",
   "language": "python",
   "name": "python3"
  },
  "language_info": {
   "codemirror_mode": {
    "name": "ipython",
    "version": 3
   },
   "file_extension": ".py",
   "mimetype": "text/x-python",
   "name": "python",
   "nbconvert_exporter": "python",
   "pygments_lexer": "ipython3",
   "version": "3.10.12"
  }
 },
 "nbformat": 4,
 "nbformat_minor": 4
}
