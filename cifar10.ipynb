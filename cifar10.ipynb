{
  "cells": [
    {
      "cell_type": "markdown",
      "metadata": {
        "id": "view-in-github",
        "colab_type": "text"
      },
      "source": [
        "<a href=\"https://colab.research.google.com/github/utility001/cifar-10/blob/main/cifar10.ipynb\" target=\"_parent\"><img src=\"https://colab.research.google.com/assets/colab-badge.svg\" alt=\"Open In Colab\"/></a>"
      ]
    },
    {
      "cell_type": "markdown",
      "metadata": {
        "id": "ojMN1eKiwlnG"
      },
      "source": [
        "# Big picture"
      ]
    },
    {
      "cell_type": "markdown",
      "metadata": {
        "id": "WGbhfUurwlnI"
      },
      "source": [
        "Practice training a deep neural network on the CIFAR10 image dataset:\n",
        "\n",
        "a. Build a DNN with 20 hidden layers of 100 neurons each (that’s too many, but it’s the point of this exercise). Use He initialization and the Swish activation function.\n",
        "\n",
        "b. Using Nadam optimization and early stopping, train the network on the CIFAR10 dataset. You can load it with tf.keras.datasets.cifar10.load_data().\n",
        "The dataset is composed of 60,000 32 × 32–pixel color images (50,000 for training, 10,000 for testing) with 10 classes, so you’ll need a softmax output layer with 10 neurons.\n",
        "Remember to search for the right learning rate each time you change the model’s architecture or hyperparameters.\n",
        "\n",
        "c. Now try adding batch normalization and compare the learning curves: is it converging faster than before? Does it produce a bettermodel? How does it affect training speed?\n",
        "\n",
        "d. Try replacing batch normalization with SELU, and make the necessary adjustments to ensure the network self-normalizes (i.e., standardize the input features, use LeCun normal initialization, make sure the DNN contains only a sequence of dense layers, etc.).\n",
        "\n",
        "e. Try regularizing the model with alpha dropout. Then, without retraining your model, see if you can achieve better accuracy using MC dropout.\n",
        "\n",
        "f. Retrain your model using 1cycle scheduling and see if it improves training speed and model accuracy."
      ]
    },
    {
      "cell_type": "code",
      "execution_count": null,
      "metadata": {
        "id": "pfAKKYQBwlnK"
      },
      "outputs": [],
      "source": []
    },
    {
      "cell_type": "markdown",
      "metadata": {
        "id": "su4JFOEqwlnL"
      },
      "source": [
        "# Ingest"
      ]
    },
    {
      "cell_type": "code",
      "execution_count": 1,
      "metadata": {
        "id": "URvDYNQNYpql"
      },
      "outputs": [],
      "source": [
        "# !pip install --upgrade tensorflow"
      ]
    },
    {
      "cell_type": "code",
      "execution_count": 2,
      "metadata": {
        "id": "3ws0uLXEZmzc"
      },
      "outputs": [],
      "source": [
        "import tensorflow as tf\n",
        "from sklearn.model_selection import train_test_split\n",
        "import matplotlib.pyplot as plt\n",
        "from skimage import io\n",
        "import numpy as np\n",
        "import pandas as pd"
      ]
    },
    {
      "cell_type": "code",
      "execution_count": 3,
      "metadata": {
        "id": "iJXq6pu_wlnN"
      },
      "outputs": [],
      "source": [
        "# cifar_10 details\n",
        "tf.keras.datasets.cifar10.load_data?"
      ]
    },
    {
      "cell_type": "code",
      "execution_count": 4,
      "metadata": {
        "id": "g6HdHsUIwlnO"
      },
      "outputs": [],
      "source": [
        "(X_train_full, y_train_full), (X_test, y_test) = tf.keras.datasets.cifar10.load_data()"
      ]
    },
    {
      "cell_type": "code",
      "execution_count": 5,
      "metadata": {
        "colab": {
          "base_uri": "https://localhost:8080/"
        },
        "id": "7KImtuhkwlnP",
        "outputId": "2d2f0974-7ed1-4824-e862-3fbc49e8b099"
      },
      "outputs": [
        {
          "output_type": "execute_result",
          "data": {
            "text/plain": [
              "((50000, 32, 32, 3), (10000, 32, 32, 3))"
            ]
          },
          "metadata": {},
          "execution_count": 5
        }
      ],
      "source": [
        "X_train_full.shape, X_test.shape"
      ]
    },
    {
      "cell_type": "code",
      "execution_count": 6,
      "metadata": {
        "id": "sRGEjw5DwlnQ"
      },
      "outputs": [],
      "source": [
        "X_train, X_val, y_train, y_val = train_test_split(\n",
        "    X_train_full,\n",
        "    y_train_full,\n",
        "    random_state=42,\n",
        "    test_size=10_000,\n",
        "    shuffle=True,\n",
        "    stratify=y_train_full\n",
        ")"
      ]
    },
    {
      "cell_type": "code",
      "execution_count": 7,
      "metadata": {
        "colab": {
          "base_uri": "https://localhost:8080/"
        },
        "id": "Pg7TUHUZwlnR",
        "outputId": "a62925dc-6221-4168-b059-ca8fdf6be276"
      },
      "outputs": [
        {
          "output_type": "execute_result",
          "data": {
            "text/plain": [
              "((40000, 32, 32, 3), (10000, 32, 32, 3), (10000, 32, 32, 3))"
            ]
          },
          "metadata": {},
          "execution_count": 7
        }
      ],
      "source": [
        "X_train.shape, X_val.shape, X_test.shape"
      ]
    },
    {
      "cell_type": "code",
      "execution_count": 8,
      "metadata": {
        "colab": {
          "base_uri": "https://localhost:8080/"
        },
        "id": "-9RRpPjZwlnS",
        "outputId": "b1716f35-8bf8-4388-92ec-d46066150dc2"
      },
      "outputs": [
        {
          "output_type": "execute_result",
          "data": {
            "text/plain": [
              "((40000, 1), (10000, 1), (10000, 1))"
            ]
          },
          "metadata": {},
          "execution_count": 8
        }
      ],
      "source": [
        "y_train.shape, y_val.shape, y_test.shape"
      ]
    },
    {
      "cell_type": "code",
      "execution_count": 9,
      "metadata": {
        "colab": {
          "base_uri": "https://localhost:8080/"
        },
        "id": "-7CN0Kz3wlnU",
        "outputId": "ba3be5a6-a7cc-4e85-d670-526388f614b2"
      },
      "outputs": [
        {
          "output_type": "execute_result",
          "data": {
            "text/plain": [
              "((32, 32, 3), 0, 217)"
            ]
          },
          "metadata": {},
          "execution_count": 9
        }
      ],
      "source": [
        "X_train[0].shape, X_train[0].min(), X_train[0].max()"
      ]
    },
    {
      "cell_type": "code",
      "execution_count": 10,
      "metadata": {
        "colab": {
          "base_uri": "https://localhost:8080/"
        },
        "id": "EopfNgQNwlnU",
        "outputId": "dbd1e96c-ee22-482d-bcd9-6bc4dc921f57"
      },
      "outputs": [
        {
          "output_type": "execute_result",
          "data": {
            "text/plain": [
              "(0, 255)"
            ]
          },
          "metadata": {},
          "execution_count": 10
        }
      ],
      "source": [
        "X_train.min(), X_train.max()"
      ]
    },
    {
      "cell_type": "code",
      "execution_count": 11,
      "metadata": {
        "colab": {
          "base_uri": "https://localhost:8080/",
          "height": 447
        },
        "id": "LuWY6nu5wlnU",
        "outputId": "27bf9d59-401c-4371-f24c-20cc7e2144b0"
      },
      "outputs": [
        {
          "output_type": "execute_result",
          "data": {
            "text/plain": [
              "<matplotlib.image.AxesImage at 0x79009f899030>"
            ]
          },
          "metadata": {},
          "execution_count": 11
        },
        {
          "output_type": "display_data",
          "data": {
            "text/plain": [
              "<Figure size 640x480 with 1 Axes>"
            ],
            "image/png": "[encoded data removed]"
          },
          "metadata": {}
        }
      ],
      "source": [
        "plt.imshow(X_train[0], interpolation='nearest')"
      ]
    },
    {
      "cell_type": "code",
      "source": [
        "labels = ['airplane', 'automobile', 'bird', 'cat', 'deer', 'dog', 'frog', 'horse', 'ship', 'truck']\n",
        "labels[y_train.flatten()[0]]"
      ],
      "metadata": {
        "colab": {
          "base_uri": "https://localhost:8080/",
          "height": 35
        },
        "id": "yKxERNjXykVL",
        "outputId": "8707261d-958e-4f80-95e5-0f69d1c47979"
      },
      "execution_count": 12,
      "outputs": [
        {
          "output_type": "execute_result",
          "data": {
            "text/plain": [
              "'frog'"
            ],
            "application/vnd.google.colaboratory.intrinsic+json": {
              "type": "string"
            }
          },
          "metadata": {},
          "execution_count": 12
        }
      ]
    },
    {
      "cell_type": "code",
      "source": [
        "y_train = y_train.flatten()\n",
        "y_val = y_val.flatten()\n",
        "y_test = y_test.flatten()\n",
        "y_test[:10]"
      ],
      "metadata": {
        "colab": {
          "base_uri": "https://localhost:8080/"
        },
        "id": "Bh0xe6Jp1Db9",
        "outputId": "c1157c82-ce09-4374-f4a7-d9f057b4c35f"
      },
      "execution_count": 13,
      "outputs": [
        {
          "output_type": "execute_result",
          "data": {
            "text/plain": [
              "array([3, 8, 8, 0, 6, 6, 1, 6, 3, 1], dtype=uint8)"
            ]
          },
          "metadata": {},
          "execution_count": 13
        }
      ]
    },
    {
      "cell_type": "code",
      "execution_count": null,
      "metadata": {
        "id": "MmyyOOPswlnU"
      },
      "outputs": [],
      "source": [
        "#  Plot a few images from the dataset\n",
        "plt.figure(figsize=(18, 4))\n",
        "for idx, image_data in enumerate(X_train[:36]):\n",
        "    plt.subplot(3, 12, idx + 1)\n",
        "    plt.imshow(X_train[idx], cmap=\"binary\")\n",
        "    plt.axis(\"off\");\n",
        "    plt.title(labels[y_train[idx]])\n",
        "plt.subplots_adjust(wspace=0.4, hspace=0.2)\n",
        "plt.show();"
      ]
    },
    {
      "cell_type": "code",
      "execution_count": null,
      "metadata": {
        "id": "Khqo_iSAwlnU"
      },
      "outputs": [],
      "source": [
        "def get_value_counts(target, name):\n",
        "    value_counts = pd.Series(target, name=name).value_counts()\n",
        "    percentages = (value_counts/len(target)) * 100\n",
        "\n",
        "    vcs = pd.DataFrame({\n",
        "        f\"{name} counts\": value_counts,\n",
        "        f\"{name} %\": percentages\n",
        "    })\n",
        "    return vcs"
      ]
    },
    {
      "cell_type": "code",
      "source": [
        "ytr = get_value_counts(y_train, name=\"y_train\")\n",
        "yva = get_value_counts(y_val, name=\"y_val\")\n",
        "yte = get_value_counts(y_test, name='y_test|')\n",
        "pd.concat([ytr, yva, yte], axis=1, keys=['train', 'validation', 'test']).sort_index()"
      ],
      "metadata": {
        "id": "gJtbVBYW0A49"
      },
      "execution_count": null,
      "outputs": []
    },
    {
      "cell_type": "markdown",
      "source": [
        "Obs: Well stratified"
      ],
      "metadata": {
        "id": "StXPK64R1wc4"
      }
    },
    {
      "cell_type": "markdown",
      "source": [
        "### Task 1\n",
        "\n",
        " Build a DNN with 20 hidden layers of 100 neurons each (that’s too many, but it’s the point of this exercise). Use He initialization and the swish activation function."
      ],
      "metadata": {
        "id": "KA_8l_Hu2FBP"
      }
    },
    {
      "cell_type": "code",
      "source": [
        "_input_shape = X_train[0].shape\n",
        "_input_shape"
      ],
      "metadata": {
        "id": "DZpgr10B3u5R"
      },
      "execution_count": null,
      "outputs": []
    },
    {
      "cell_type": "code",
      "source": [
        "tf.keras.layers.InputLayer?"
      ],
      "metadata": {
        "id": "TdgAutcS4IYv"
      },
      "execution_count": null,
      "outputs": []
    },
    {
      "cell_type": "code",
      "source": [
        "tf.keras.backend.clear_session()\n",
        "np.random.seed(42)\n",
        "tf.random.set_seed(42)\n",
        "\n",
        "# initializer\n",
        "he_uniform = tf.keras.initializers.he_normal()\n",
        "\n",
        "# activation\n",
        "swish = tf.keras.activations.swish\n",
        "\n",
        "model = tf.keras.Sequential([\n",
        "\n",
        "    ])\n",
        "\n",
        "model.add(tf.keras.layers.InputLayer(shape=_input_shape))\n",
        "model.add(tf.keras.layers.Flatten())\n",
        "for layers in range(20):\n",
        "    model.add(tf.keras.layers.Dense(\n",
        "        units = 100,\n",
        "        activation=swish,\n",
        "        kernel_initializer=he_uniform))\n",
        "model.add(tf.keras.layers.Dense(\n",
        "    units=10,\n",
        "    activation='softmax'))"
      ],
      "metadata": {
        "id": "ZN10PngI2cXJ"
      },
      "execution_count": null,
      "outputs": []
    },
    {
      "cell_type": "code",
      "source": [
        "model.summary()"
      ],
      "metadata": {
        "id": "eJqBH23S255N"
      },
      "execution_count": null,
      "outputs": []
    },
    {
      "cell_type": "markdown",
      "source": [
        "### Task 2\n",
        "\n",
        "+ Using Nadam optimization and early stopping train the network on the CIFAR10 dataset.\n",
        "+ You can load it with tf.keras.datasets.cifar10.load_data().\n",
        "+ The dataset is composed of 60,000 32 × 32–pixel color images (50,000 for training, 10,000 for testing) with 10 classes, so you’ll need a softmax output layer with 10 neurons.\n",
        "+ Remember to search for the right learning rate each time you change the model’s architecture or hyperparameters."
      ],
      "metadata": {
        "id": "htRtOZtn-dW4"
      }
    },
    {
      "cell_type": "code",
      "source": [
        "_loss = tf.keras.losses.sparse_categorical_crossentropy\n",
        "_optimizer = tf.keras.optimizers.Nadam(learning_rate=5e-5)\n",
        "_metrics = tf.keras.metrics.sparse_categorical_accuracy\n",
        "\n",
        "model.compile(loss=_loss, optimizer=_optimizer, metrics=[_metrics])"
      ],
      "metadata": {
        "id": "IA7T1uFr9P40"
      },
      "execution_count": null,
      "outputs": []
    },
    {
      "cell_type": "code",
      "source": [
        "# Early stopping\n",
        "early_stopping = tf.keras.callbacks.EarlyStopping(\n",
        "    monitor=\"val_loss\",\n",
        "    patience = 5,\n",
        "    restore_best_weights=True\n",
        ")"
      ],
      "metadata": {
        "id": "OQdwWeGS6SIK"
      },
      "execution_count": null,
      "outputs": []
    },
    {
      "cell_type": "code",
      "source": [
        "X_train = X_train / 255\n",
        "X_val = X_val / 255\n",
        "X_test = X_test / 255"
      ],
      "metadata": {
        "id": "PVvGVu4ZBkJt"
      },
      "execution_count": null,
      "outputs": []
    },
    {
      "cell_type": "code",
      "source": [
        "%%time\n",
        "# Train the model\n",
        "history = model.fit(\n",
        "    X_train,\n",
        "    y_train,\n",
        "    epochs=50,\n",
        "    validation_data=(X_val, y_val),\n",
        "    callbacks=[early_stopping]\n",
        ")"
      ],
      "metadata": {
        "id": "YAQzCbbV2QF0"
      },
      "execution_count": null,
      "outputs": []
    },
    {
      "cell_type": "code",
      "source": [
        "hist = pd.DataFrame(history.history)"
      ],
      "metadata": {
        "id": "vwIYSC8C9jKC"
      },
      "execution_count": null,
      "outputs": []
    },
    {
      "cell_type": "code",
      "source": [
        "pd.DataFrame(hist).plot(\n",
        "    figsize=(12, 5),\n",
        "    xlabel=\"Number of epochs\",\n",
        "    # ylabel=\"\",\n",
        "    style=[\"g--\", \"g-*\", \"b--\", \"b-*\"],\n",
        "    ylim=[0, 1.2],\n",
        "    grid=True\n",
        ")"
      ],
      "metadata": {
        "id": "Dhoit1bH9vFf"
      },
      "execution_count": null,
      "outputs": []
    },
    {
      "cell_type": "markdown",
      "source": [
        "### Task 3\n",
        "\n",
        "+ Now try adding batch normalization and compare the learning curves  \n",
        "  is it converging faster than before?   \n",
        "  Does it produce a bettermodel? How does it affect training speed?"
      ],
      "metadata": {
        "id": "oC-ue-LoAMik"
      }
    },
    {
      "cell_type": "code",
      "source": [],
      "metadata": {
        "id": "tLscu-bs-M53"
      },
      "execution_count": null,
      "outputs": []
    },
    {
      "cell_type": "code",
      "source": [],
      "metadata": {
        "id": "s8N5Hrs2-MPD"
      },
      "execution_count": null,
      "outputs": []
    },
    {
      "cell_type": "code",
      "execution_count": null,
      "metadata": {
        "id": "T5DKsctjwlnW"
      },
      "outputs": [],
      "source": []
    }
  ],
  "metadata": {
    "colab": {
      "provenance": [],
      "include_colab_link": true
    },
    "kernelspec": {
      "display_name": "tfkernel",
      "language": "python",
      "name": "tfkernel"
    },
    "language_info": {
      "codemirror_mode": {
        "name": "ipython",
        "version": 3
      },
      "file_extension": ".py",
      "mimetype": "text/x-python",
      "name": "python",
      "nbconvert_exporter": "python",
      "pygments_lexer": "ipython3",
      "version": "3.10.12"
    }
  },
  "nbformat": 4,
  "nbformat_minor": 0
}